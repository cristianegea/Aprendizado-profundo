{
  "nbformat": 4,
  "nbformat_minor": 0,
  "metadata": {
    "colab": {
      "provenance": []
    },
    "kernelspec": {
      "name": "python3",
      "display_name": "Python 3"
    },
    "language_info": {
      "name": "python"
    }
  },
  "cells": [
    {
      "cell_type": "code",
      "execution_count": 1,
      "metadata": {
        "colab": {
          "base_uri": "https://localhost:8080/"
        },
        "id": "AI71dfooGeY0",
        "outputId": "d82efe46-158e-478f-8448-0c17eff40cee"
      },
      "outputs": [
        {
          "output_type": "stream",
          "name": "stdout",
          "text": [
            "=== CNN PARA MNIST - VERSÃO TESTADA E FUNCIONAL ===\n",
            "\n"
          ]
        }
      ],
      "source": [
        "# Bibliotecas\n",
        "import tensorflow as tf\n",
        "from tensorflow import keras\n",
        "from tensorflow.keras import layers\n",
        "import numpy as np\n",
        "import matplotlib.pyplot as plt\n",
        "from tensorflow.keras.utils import to_categorical\n",
        "import warnings\n",
        "warnings.filterwarnings('ignore')\n",
        "\n",
        "print(\"=== CNN PARA MNIST - VERSÃO TESTADA E FUNCIONAL ===\\n\")"
      ]
    },
    {
      "cell_type": "code",
      "source": [
        "# 1. VERIFICAÇÃO DO AMBIENTE\n",
        "print(\"🔧 Verificando ambiente...\")\n",
        "print(f\"TensorFlow: {tf.__version__}\")\n",
        "print(f\"Keras: {keras.__version__}\")"
      ],
      "metadata": {
        "colab": {
          "base_uri": "https://localhost:8080/"
        },
        "id": "b4I5ZVdnHK_y",
        "outputId": "26216ad2-d791-4b11-e70b-1643081382e4"
      },
      "execution_count": 2,
      "outputs": [
        {
          "output_type": "stream",
          "name": "stdout",
          "text": [
            "🔧 Verificando ambiente...\n",
            "TensorFlow: 2.19.0\n",
            "Keras: 3.10.0\n"
          ]
        }
      ]
    },
    {
      "cell_type": "code",
      "source": [
        "# 2. CARREGAMENTO CORRETO DOS DADOS\n",
        "def load_mnist_correctly():\n",
        "    \"\"\"Carrega o MNIST com formato CORRETO para CNN\"\"\"\n",
        "    print(\"\\n📦 Carregando MNIST...\")\n",
        "\n",
        "    # Carregar dados\n",
        "    (x_train, y_train), (x_test, y_test) = keras.datasets.mnist.load_data()\n",
        "\n",
        "    print(f\"Dados originais:\")\n",
        "    print(f\"x_train: {x_train.shape}, y_train: {y_train.shape}\")\n",
        "    print(f\"x_test: {x_test.shape}, y_test: {y_test.shape}\")\n",
        "\n",
        "    # PRÉ-PROCESSAMENTO CORRETO\n",
        "    # 1. Adicionar dimensão do canal (última posição)\n",
        "    x_train = x_train.reshape(x_train.shape[0], 28, 28, 1)\n",
        "    x_test = x_test.reshape(x_test.shape[0], 28, 28, 1)\n",
        "\n",
        "    # 2. Normalizar para 0-1\n",
        "    x_train = x_train.astype('float32') / 255\n",
        "    x_test = x_test.astype('float32') / 255\n",
        "\n",
        "    # 3. One-hot encoding dos labels\n",
        "    y_train = to_categorical(y_train, 10)\n",
        "    y_test = to_categorical(y_test, 10)\n",
        "\n",
        "    print(f\"\\nDados pré-processados:\")\n",
        "    print(f\"x_train: {x_train.shape} (formato correto para CNN)\")\n",
        "    print(f\"x_test: {x_test.shape} (formato correto para CNN)\")\n",
        "    print(f\"y_train: {y_train.shape}\")\n",
        "    print(f\"y_test: {y_test.shape}\")\n",
        "\n",
        "    return (x_train, y_train), (x_test, y_test)"
      ],
      "metadata": {
        "id": "SGorgsN0HMsw"
      },
      "execution_count": 3,
      "outputs": []
    },
    {
      "cell_type": "code",
      "source": [
        "# 3. MODELO CNN SIMPLES E FUNCIONAL\n",
        "def create_simple_cnn():\n",
        "    \"\"\"Cria uma CNN simples que FUNCIONA com MNIST\"\"\"\n",
        "    print(\"\\n🏗️ Criando modelo CNN...\")\n",
        "\n",
        "    model = keras.Sequential([\n",
        "        # Camada 1: Conv2D + MaxPooling\n",
        "        layers.Conv2D(32, (3, 3), activation='relu', input_shape=(28, 28, 1)),\n",
        "        layers.MaxPooling2D((2, 2)),\n",
        "\n",
        "        # Camada 2: Conv2D + MaxPooling\n",
        "        layers.Conv2D(64, (3, 3), activation='relu'),\n",
        "        layers.MaxPooling2D((2, 2)),\n",
        "\n",
        "        # Camada 3: Conv2D\n",
        "        layers.Conv2D(64, (3, 3), activation='relu'),\n",
        "\n",
        "        # Classificador\n",
        "        layers.Flatten(),\n",
        "        layers.Dense(64, activation='relu'),\n",
        "        layers.Dense(10, activation='softmax')\n",
        "    ])\n",
        "\n",
        "    print(\"✅ Modelo criado com sucesso!\")\n",
        "    model.summary()\n",
        "    return model"
      ],
      "metadata": {
        "id": "wZYmJxFRHXzC"
      },
      "execution_count": 4,
      "outputs": []
    },
    {
      "cell_type": "code",
      "source": [
        "# 4. COMPILAÇÃO\n",
        "def compile_model(model):\n",
        "    \"\"\"Compila o modelo\"\"\"\n",
        "    model.compile(\n",
        "        optimizer='rmsprop',\n",
        "        loss='categorical_crossentropy',\n",
        "        metrics=['accuracy']\n",
        "    )\n",
        "    print(\"✅ Modelo compilado!\")\n",
        "    return model"
      ],
      "metadata": {
        "id": "aupbFKjnHaz1"
      },
      "execution_count": 5,
      "outputs": []
    },
    {
      "cell_type": "code",
      "source": [
        "# 5. TREINAMENTO\n",
        "def train_model_safely(model, x_train, y_train, x_test, y_test):\n",
        "    \"\"\"Treina o modelo com verificação de formato\"\"\"\n",
        "    print(f\"\\n🎯 Verificando formatos antes do treinamento:\")\n",
        "    print(f\"x_train: {x_train.shape}\")\n",
        "    print(f\"y_train: {y_train.shape}\")\n",
        "    print(f\"x_test: {x_test.shape}\")\n",
        "    print(f\"y_test: {y_test.shape}\")\n",
        "\n",
        "    # Verificação CRÍTICA dos formatos\n",
        "    assert x_train.shape[1:] == (28, 28, 1), f\"Formato errado x_train: {x_train.shape}\"\n",
        "    assert x_test.shape[1:] == (28, 28, 1), f\"Formato errado x_test: {x_test.shape}\"\n",
        "\n",
        "    print(\"✅ Formatos corretos! Iniciando treinamento...\")\n",
        "\n",
        "    history = model.fit(\n",
        "        x_train, y_train,\n",
        "        batch_size=64,\n",
        "        epochs=5,\n",
        "        validation_data=(x_test, y_test),\n",
        "        verbose=1\n",
        "    )\n",
        "\n",
        "    print(\"✅ Treinamento concluído!\")\n",
        "    return history"
      ],
      "metadata": {
        "id": "r8dQBtllHdsl"
      },
      "execution_count": 6,
      "outputs": []
    },
    {
      "cell_type": "code",
      "source": [
        "# 6. FUNÇÃO DE PREDIÇÃO SEGURA\n",
        "def predict_safely(model, image):\n",
        "    \"\"\"\n",
        "    Faz predição garantindo formato correto\n",
        "    \"\"\"\n",
        "    # Garantir que a imagem está no formato correto\n",
        "    if len(image.shape) == 2:  # (28, 28)\n",
        "        image = image.reshape(1, 28, 28, 1)\n",
        "    elif len(image.shape) == 3 and image.shape == (28, 28, 1):  # Já está correto\n",
        "        image = image.reshape(1, 28, 28, 1)\n",
        "    elif len(image.shape) == 3 and image.shape == (1, 28, 28):  # Formato errado comum\n",
        "        image = image.reshape(1, 28, 28, 1)\n",
        "\n",
        "    # Verificar normalização\n",
        "    if image.max() > 1.0:\n",
        "        image = image.astype('float32') / 255.0\n",
        "\n",
        "    print(f\"🔍 Formato da imagem para predição: {image.shape}\")\n",
        "\n",
        "    # Fazer predição\n",
        "    prediction = model.predict(image, verbose=0)\n",
        "    predicted_class = np.argmax(prediction[0])\n",
        "    confidence = np.max(prediction[0])\n",
        "\n",
        "    return predicted_class, confidence, prediction[0]"
      ],
      "metadata": {
        "id": "hj5W41ZnHf4R"
      },
      "execution_count": 7,
      "outputs": []
    },
    {
      "cell_type": "code",
      "source": [
        "# 7. TESTE BÁSICO\n",
        "def basic_test(model, x_test, y_test):\n",
        "    \"\"\"Teste básico do modelo\"\"\"\n",
        "    print(\"\\n🧪 TESTE BÁSICO\")\n",
        "\n",
        "    # Avaliar modelo\n",
        "    test_loss, test_accuracy = model.evaluate(x_test, y_test, verbose=0)\n",
        "    print(f\"📊 Accuracy no teste: {test_accuracy:.4f}\")\n",
        "\n",
        "    # Testar algumas imagens\n",
        "    print(\"\\n🔍 Testando predições em 5 imagens:\")\n",
        "    indices = np.random.choice(len(x_test), 5, replace=False)\n",
        "\n",
        "    for i, idx in enumerate(indices):\n",
        "        image = x_test[idx]\n",
        "        true_label = np.argmax(y_test[idx])\n",
        "\n",
        "        pred, conf, _ = predict_safely(model, image)\n",
        "\n",
        "        status = \"✅\" if pred == true_label else \"❌\"\n",
        "        print(f\"Imagem {i+1}: True={true_label}, Pred={pred}, Conf={conf:.3f} {status}\")"
      ],
      "metadata": {
        "id": "E3cIbM0ZHjAL"
      },
      "execution_count": 8,
      "outputs": []
    },
    {
      "cell_type": "code",
      "source": [
        "# 8. VISUALIZAÇÃO\n",
        "def plot_results(history, model, x_test, y_test):\n",
        "    \"\"\"Plota resultados do treinamento\"\"\"\n",
        "    print(\"\\n📊 Plotando resultados...\")\n",
        "\n",
        "    # Gráfico de accuracy\n",
        "    plt.figure(figsize=(12, 4))\n",
        "\n",
        "    plt.subplot(1, 2, 1)\n",
        "    plt.plot(history.history['accuracy'], label='Train Accuracy')\n",
        "    plt.plot(history.history['val_accuracy'], label='Validation Accuracy')\n",
        "    plt.title('Accuracy durante o Treinamento')\n",
        "    plt.xlabel('Época')\n",
        "    plt.ylabel('Accuracy')\n",
        "    plt.legend()\n",
        "    plt.grid(True, alpha=0.3)\n",
        "\n",
        "    # Amostras de predição\n",
        "    plt.subplot(1, 2, 2)\n",
        "    indices = np.random.choice(len(x_test), 9, replace=False)\n",
        "\n",
        "    for i, idx in enumerate(indices):\n",
        "        plt.subplot(3, 3, i + 1)\n",
        "        image = x_test[idx]\n",
        "        true_label = np.argmax(y_test[idx])\n",
        "        pred_label, conf, _ = predict_safely(model, image)\n",
        "\n",
        "        plt.imshow(image.reshape(28, 28), cmap='gray')\n",
        "        plt.title(f'V:{true_label} P:{pred_label}\\nC:{conf:.2f}', fontsize=8)\n",
        "        plt.axis('off')\n",
        "\n",
        "        # Colorir baseado no acerto\n",
        "        color = 'green' if true_label == pred_label else 'red'\n",
        "        plt.gca().spines['bottom'].set_color(color)\n",
        "        plt.gca().spines['top'].set_color(color)\n",
        "        plt.gca().spines['right'].set_color(color)\n",
        "        plt.gca().spines['left'].set_color(color)\n",
        "        plt.gca().spines['bottom'].set_linewidth(2)\n",
        "        plt.gca().spines['top'].set_linewidth(2)\n",
        "        plt.gca().spines['right'].set_linewidth(2)\n",
        "        plt.gca().spines['left'].set_linewidth(2)\n",
        "\n",
        "    plt.tight_layout()\n",
        "    plt.show()"
      ],
      "metadata": {
        "id": "z1jlYW7XHl2x"
      },
      "execution_count": 9,
      "outputs": []
    },
    {
      "cell_type": "code",
      "source": [
        "# 9. FLUXO PRINCIPAL ROBUSTO\n",
        "def main():\n",
        "    \"\"\"Fluxo principal testado e funcional\"\"\"\n",
        "    try:\n",
        "        print(\"🚀 INICIANDO MNIST CNN - VERSÃO TESTADA\\n\")\n",
        "\n",
        "        # 1. Carregar dados CORRETAMENTE\n",
        "        (x_train, y_train), (x_test, y_test) = load_mnist_correctly()\n",
        "\n",
        "        # 2. Criar modelo\n",
        "        model = create_simple_cnn()\n",
        "        model = compile_model(model)\n",
        "\n",
        "        # 3. Treinar\n",
        "        history = train_model_safely(model, x_train, y_train, x_test, y_test)\n",
        "\n",
        "        # 4. Testar\n",
        "        basic_test(model, x_test, y_test)\n",
        "\n",
        "        # 5. Visualizar\n",
        "        plot_results(history, model, x_test, y_test)\n",
        "\n",
        "        # 6. Salvar modelo\n",
        "        model.save('mnist_cnn_tested.h5')\n",
        "        print(f\"\\n💾 Modelo salvo: 'mnist_cnn_tested.h5'\")\n",
        "\n",
        "        # 7. Demonstração final\n",
        "        print(\"\\n🎯 DEMONSTRAÇÃO FINAL\")\n",
        "        print(\"Testando a primeira imagem do conjunto de teste:\")\n",
        "\n",
        "        first_image = x_test[0]\n",
        "        first_true = np.argmax(y_test[0])\n",
        "\n",
        "        pred, conf, probs = predict_safely(model, first_image)\n",
        "\n",
        "        plt.figure(figsize=(10, 4))\n",
        "\n",
        "        plt.subplot(1, 2, 1)\n",
        "        plt.imshow(first_image.reshape(28, 28), cmap='gray')\n",
        "        plt.title(f'Imagem de Teste\\nVerdadeiro: {first_true}, Predito: {pred}')\n",
        "        plt.axis('off')\n",
        "\n",
        "        plt.subplot(1, 2, 2)\n",
        "        bars = plt.bar(range(10), probs, color='skyblue')\n",
        "        bars[pred].set_color('red')\n",
        "        plt.title('Probabilidades por Dígito')\n",
        "        plt.xlabel('Dígito')\n",
        "        plt.ylabel('Probabilidade')\n",
        "        plt.xticks(range(10))\n",
        "        plt.grid(True, alpha=0.3)\n",
        "\n",
        "        plt.tight_layout()\n",
        "        plt.show()\n",
        "\n",
        "        print(f\"\\n🎉 PROGRAMA CONCLUÍDO COM SUCESSO!\")\n",
        "        print(f\"📈 Modelo treinado e testado com sucesso!\")\n",
        "\n",
        "    except Exception as e:\n",
        "        print(f\"\\n❌ ERRO: {e}\")\n",
        "        print(\"💡 Execute o teste mínimo abaixo para diagnóstico:\")"
      ],
      "metadata": {
        "id": "5FNiPLU3HvT-"
      },
      "execution_count": 10,
      "outputs": []
    },
    {
      "cell_type": "code",
      "source": [
        "# 10. TESTE MÍNIMO PARA DIAGNÓSTICO\n",
        "def diagnostic_test():\n",
        "    \"\"\"Teste mínimo para diagnosticar problemas\"\"\"\n",
        "    print(\"\\n🔧 EXECUTANDO TESTE DE DIAGNÓSTICO...\")\n",
        "\n",
        "    try:\n",
        "        # Carregar apenas 100 imagens para teste rápido\n",
        "        (x_train, y_train), (x_test, y_test) = keras.datasets.mnist.load_data()\n",
        "\n",
        "        # Pré-processar CORRETAMENTE\n",
        "        x_train = x_train[:100].reshape(-1, 28, 28, 1).astype('float32') / 255\n",
        "        x_test = x_test[:20].reshape(-1, 28, 28, 1).astype('float32') / 255\n",
        "        y_train = to_categorical(y_train[:100], 10)\n",
        "        y_test = to_categorical(y_test[:20], 10)\n",
        "\n",
        "        print(f\"✅ Dados carregados:\")\n",
        "        print(f\"   x_train: {x_train.shape}\")\n",
        "        print(f\"   x_test: {x_test.shape}\")\n",
        "\n",
        "        # Modelo mínimo\n",
        "        model = keras.Sequential([\n",
        "            layers.Conv2D(8, (3, 3), activation='relu', input_shape=(28, 28, 1)),\n",
        "            layers.MaxPooling2D((2, 2)),\n",
        "            layers.Flatten(),\n",
        "            layers.Dense(10, activation='softmax')\n",
        "        ])\n",
        "\n",
        "        model.compile(optimizer='rmsprop', loss='categorical_crossentropy', metrics=['accuracy'])\n",
        "\n",
        "        print(\"✅ Modelo criado. Treinando...\")\n",
        "\n",
        "        # Treinar por 1 época\n",
        "        model.fit(x_train, y_train, epochs=1, batch_size=32, verbose=1)\n",
        "\n",
        "        # Testar\n",
        "        test_loss, test_accuracy = model.evaluate(x_test, y_test, verbose=0)\n",
        "        print(f\"✅ Teste concluído! Accuracy: {test_accuracy:.3f}\")\n",
        "\n",
        "        return True\n",
        "\n",
        "    except Exception as e:\n",
        "        print(f\"❌ FALHA NO TESTE: {e}\")\n",
        "        return False"
      ],
      "metadata": {
        "id": "0kf2P4a6HzI7"
      },
      "execution_count": 11,
      "outputs": []
    },
    {
      "cell_type": "code",
      "source": [
        "# EXECUÇÃO PRINCIPAL\n",
        "if __name__ == \"__main__\":\n",
        "    print(\"=\" * 60)\n",
        "    print(\"MNIST CNN - VERSÃO COMPLETAMENTE TESTADA\")\n",
        "    print(\"=\" * 60)\n",
        "\n",
        "    # Primeiro executar teste de diagnóstico\n",
        "    if diagnostic_test():\n",
        "        print(\"\\n\" + \"=\" * 60)\n",
        "        print(\"✅ AMBIENTE VERIFICADO - EXECUTANDO PROGRAMA PRINCIPAL\")\n",
        "        print(\"=\" * 60)\n",
        "        main()\n",
        "    else:\n",
        "        print(\"\\n❌ PROBLEMAS NO AMBIENTE - VERIFIQUE A INSTALAÇÃO\")"
      ],
      "metadata": {
        "colab": {
          "base_uri": "https://localhost:8080/",
          "height": 1000
        },
        "id": "u7jjsoNcH1jf",
        "outputId": "efb48c03-33a8-49c2-b537-aece54785a04"
      },
      "execution_count": 12,
      "outputs": [
        {
          "output_type": "stream",
          "name": "stdout",
          "text": [
            "============================================================\n",
            "MNIST CNN - VERSÃO COMPLETAMENTE TESTADA\n",
            "============================================================\n",
            "\n",
            "🔧 EXECUTANDO TESTE DE DIAGNÓSTICO...\n",
            "✅ Dados carregados:\n",
            "   x_train: (100, 28, 28, 1)\n",
            "   x_test: (20, 28, 28, 1)\n",
            "✅ Modelo criado. Treinando...\n",
            "\u001b[1m4/4\u001b[0m \u001b[32m━━━━━━━━━━━━━━━━━━━━\u001b[0m\u001b[37m\u001b[0m \u001b[1m1s\u001b[0m 16ms/step - accuracy: 0.2116 - loss: 2.2649 \n",
            "✅ Teste concluído! Accuracy: 0.550\n",
            "\n",
            "============================================================\n",
            "✅ AMBIENTE VERIFICADO - EXECUTANDO PROGRAMA PRINCIPAL\n",
            "============================================================\n",
            "🚀 INICIANDO MNIST CNN - VERSÃO TESTADA\n",
            "\n",
            "\n",
            "📦 Carregando MNIST...\n",
            "Dados originais:\n",
            "x_train: (60000, 28, 28), y_train: (60000,)\n",
            "x_test: (10000, 28, 28), y_test: (10000,)\n",
            "\n",
            "Dados pré-processados:\n",
            "x_train: (60000, 28, 28, 1) (formato correto para CNN)\n",
            "x_test: (10000, 28, 28, 1) (formato correto para CNN)\n",
            "y_train: (60000, 10)\n",
            "y_test: (10000, 10)\n",
            "\n",
            "🏗️ Criando modelo CNN...\n",
            "✅ Modelo criado com sucesso!\n"
          ]
        },
        {
          "output_type": "display_data",
          "data": {
            "text/plain": [
              "\u001b[1mModel: \"sequential_1\"\u001b[0m\n"
            ],
            "text/html": [
              "<pre style=\"white-space:pre;overflow-x:auto;line-height:normal;font-family:Menlo,'DejaVu Sans Mono',consolas,'Courier New',monospace\"><span style=\"font-weight: bold\">Model: \"sequential_1\"</span>\n",
              "</pre>\n"
            ]
          },
          "metadata": {}
        },
        {
          "output_type": "display_data",
          "data": {
            "text/plain": [
              "┏━━━━━━━━━━━━━━━━━━━━━━━━━━━━━━━━━┳━━━━━━━━━━━━━━━━━━━━━━━━┳━━━━━━━━━━━━━━━┓\n",
              "┃\u001b[1m \u001b[0m\u001b[1mLayer (type)                   \u001b[0m\u001b[1m \u001b[0m┃\u001b[1m \u001b[0m\u001b[1mOutput Shape          \u001b[0m\u001b[1m \u001b[0m┃\u001b[1m \u001b[0m\u001b[1m      Param #\u001b[0m\u001b[1m \u001b[0m┃\n",
              "┡━━━━━━━━━━━━━━━━━━━━━━━━━━━━━━━━━╇━━━━━━━━━━━━━━━━━━━━━━━━╇━━━━━━━━━━━━━━━┩\n",
              "│ conv2d_1 (\u001b[38;5;33mConv2D\u001b[0m)               │ (\u001b[38;5;45mNone\u001b[0m, \u001b[38;5;34m26\u001b[0m, \u001b[38;5;34m26\u001b[0m, \u001b[38;5;34m32\u001b[0m)     │           \u001b[38;5;34m320\u001b[0m │\n",
              "├─────────────────────────────────┼────────────────────────┼───────────────┤\n",
              "│ max_pooling2d_1 (\u001b[38;5;33mMaxPooling2D\u001b[0m)  │ (\u001b[38;5;45mNone\u001b[0m, \u001b[38;5;34m13\u001b[0m, \u001b[38;5;34m13\u001b[0m, \u001b[38;5;34m32\u001b[0m)     │             \u001b[38;5;34m0\u001b[0m │\n",
              "├─────────────────────────────────┼────────────────────────┼───────────────┤\n",
              "│ conv2d_2 (\u001b[38;5;33mConv2D\u001b[0m)               │ (\u001b[38;5;45mNone\u001b[0m, \u001b[38;5;34m11\u001b[0m, \u001b[38;5;34m11\u001b[0m, \u001b[38;5;34m64\u001b[0m)     │        \u001b[38;5;34m18,496\u001b[0m │\n",
              "├─────────────────────────────────┼────────────────────────┼───────────────┤\n",
              "│ max_pooling2d_2 (\u001b[38;5;33mMaxPooling2D\u001b[0m)  │ (\u001b[38;5;45mNone\u001b[0m, \u001b[38;5;34m5\u001b[0m, \u001b[38;5;34m5\u001b[0m, \u001b[38;5;34m64\u001b[0m)       │             \u001b[38;5;34m0\u001b[0m │\n",
              "├─────────────────────────────────┼────────────────────────┼───────────────┤\n",
              "│ conv2d_3 (\u001b[38;5;33mConv2D\u001b[0m)               │ (\u001b[38;5;45mNone\u001b[0m, \u001b[38;5;34m3\u001b[0m, \u001b[38;5;34m3\u001b[0m, \u001b[38;5;34m64\u001b[0m)       │        \u001b[38;5;34m36,928\u001b[0m │\n",
              "├─────────────────────────────────┼────────────────────────┼───────────────┤\n",
              "│ flatten_1 (\u001b[38;5;33mFlatten\u001b[0m)             │ (\u001b[38;5;45mNone\u001b[0m, \u001b[38;5;34m576\u001b[0m)            │             \u001b[38;5;34m0\u001b[0m │\n",
              "├─────────────────────────────────┼────────────────────────┼───────────────┤\n",
              "│ dense_1 (\u001b[38;5;33mDense\u001b[0m)                 │ (\u001b[38;5;45mNone\u001b[0m, \u001b[38;5;34m64\u001b[0m)             │        \u001b[38;5;34m36,928\u001b[0m │\n",
              "├─────────────────────────────────┼────────────────────────┼───────────────┤\n",
              "│ dense_2 (\u001b[38;5;33mDense\u001b[0m)                 │ (\u001b[38;5;45mNone\u001b[0m, \u001b[38;5;34m10\u001b[0m)             │           \u001b[38;5;34m650\u001b[0m │\n",
              "└─────────────────────────────────┴────────────────────────┴───────────────┘\n"
            ],
            "text/html": [
              "<pre style=\"white-space:pre;overflow-x:auto;line-height:normal;font-family:Menlo,'DejaVu Sans Mono',consolas,'Courier New',monospace\">┏━━━━━━━━━━━━━━━━━━━━━━━━━━━━━━━━━┳━━━━━━━━━━━━━━━━━━━━━━━━┳━━━━━━━━━━━━━━━┓\n",
              "┃<span style=\"font-weight: bold\"> Layer (type)                    </span>┃<span style=\"font-weight: bold\"> Output Shape           </span>┃<span style=\"font-weight: bold\">       Param # </span>┃\n",
              "┡━━━━━━━━━━━━━━━━━━━━━━━━━━━━━━━━━╇━━━━━━━━━━━━━━━━━━━━━━━━╇━━━━━━━━━━━━━━━┩\n",
              "│ conv2d_1 (<span style=\"color: #0087ff; text-decoration-color: #0087ff\">Conv2D</span>)               │ (<span style=\"color: #00d7ff; text-decoration-color: #00d7ff\">None</span>, <span style=\"color: #00af00; text-decoration-color: #00af00\">26</span>, <span style=\"color: #00af00; text-decoration-color: #00af00\">26</span>, <span style=\"color: #00af00; text-decoration-color: #00af00\">32</span>)     │           <span style=\"color: #00af00; text-decoration-color: #00af00\">320</span> │\n",
              "├─────────────────────────────────┼────────────────────────┼───────────────┤\n",
              "│ max_pooling2d_1 (<span style=\"color: #0087ff; text-decoration-color: #0087ff\">MaxPooling2D</span>)  │ (<span style=\"color: #00d7ff; text-decoration-color: #00d7ff\">None</span>, <span style=\"color: #00af00; text-decoration-color: #00af00\">13</span>, <span style=\"color: #00af00; text-decoration-color: #00af00\">13</span>, <span style=\"color: #00af00; text-decoration-color: #00af00\">32</span>)     │             <span style=\"color: #00af00; text-decoration-color: #00af00\">0</span> │\n",
              "├─────────────────────────────────┼────────────────────────┼───────────────┤\n",
              "│ conv2d_2 (<span style=\"color: #0087ff; text-decoration-color: #0087ff\">Conv2D</span>)               │ (<span style=\"color: #00d7ff; text-decoration-color: #00d7ff\">None</span>, <span style=\"color: #00af00; text-decoration-color: #00af00\">11</span>, <span style=\"color: #00af00; text-decoration-color: #00af00\">11</span>, <span style=\"color: #00af00; text-decoration-color: #00af00\">64</span>)     │        <span style=\"color: #00af00; text-decoration-color: #00af00\">18,496</span> │\n",
              "├─────────────────────────────────┼────────────────────────┼───────────────┤\n",
              "│ max_pooling2d_2 (<span style=\"color: #0087ff; text-decoration-color: #0087ff\">MaxPooling2D</span>)  │ (<span style=\"color: #00d7ff; text-decoration-color: #00d7ff\">None</span>, <span style=\"color: #00af00; text-decoration-color: #00af00\">5</span>, <span style=\"color: #00af00; text-decoration-color: #00af00\">5</span>, <span style=\"color: #00af00; text-decoration-color: #00af00\">64</span>)       │             <span style=\"color: #00af00; text-decoration-color: #00af00\">0</span> │\n",
              "├─────────────────────────────────┼────────────────────────┼───────────────┤\n",
              "│ conv2d_3 (<span style=\"color: #0087ff; text-decoration-color: #0087ff\">Conv2D</span>)               │ (<span style=\"color: #00d7ff; text-decoration-color: #00d7ff\">None</span>, <span style=\"color: #00af00; text-decoration-color: #00af00\">3</span>, <span style=\"color: #00af00; text-decoration-color: #00af00\">3</span>, <span style=\"color: #00af00; text-decoration-color: #00af00\">64</span>)       │        <span style=\"color: #00af00; text-decoration-color: #00af00\">36,928</span> │\n",
              "├─────────────────────────────────┼────────────────────────┼───────────────┤\n",
              "│ flatten_1 (<span style=\"color: #0087ff; text-decoration-color: #0087ff\">Flatten</span>)             │ (<span style=\"color: #00d7ff; text-decoration-color: #00d7ff\">None</span>, <span style=\"color: #00af00; text-decoration-color: #00af00\">576</span>)            │             <span style=\"color: #00af00; text-decoration-color: #00af00\">0</span> │\n",
              "├─────────────────────────────────┼────────────────────────┼───────────────┤\n",
              "│ dense_1 (<span style=\"color: #0087ff; text-decoration-color: #0087ff\">Dense</span>)                 │ (<span style=\"color: #00d7ff; text-decoration-color: #00d7ff\">None</span>, <span style=\"color: #00af00; text-decoration-color: #00af00\">64</span>)             │        <span style=\"color: #00af00; text-decoration-color: #00af00\">36,928</span> │\n",
              "├─────────────────────────────────┼────────────────────────┼───────────────┤\n",
              "│ dense_2 (<span style=\"color: #0087ff; text-decoration-color: #0087ff\">Dense</span>)                 │ (<span style=\"color: #00d7ff; text-decoration-color: #00d7ff\">None</span>, <span style=\"color: #00af00; text-decoration-color: #00af00\">10</span>)             │           <span style=\"color: #00af00; text-decoration-color: #00af00\">650</span> │\n",
              "└─────────────────────────────────┴────────────────────────┴───────────────┘\n",
              "</pre>\n"
            ]
          },
          "metadata": {}
        },
        {
          "output_type": "display_data",
          "data": {
            "text/plain": [
              "\u001b[1m Total params: \u001b[0m\u001b[38;5;34m93,322\u001b[0m (364.54 KB)\n"
            ],
            "text/html": [
              "<pre style=\"white-space:pre;overflow-x:auto;line-height:normal;font-family:Menlo,'DejaVu Sans Mono',consolas,'Courier New',monospace\"><span style=\"font-weight: bold\"> Total params: </span><span style=\"color: #00af00; text-decoration-color: #00af00\">93,322</span> (364.54 KB)\n",
              "</pre>\n"
            ]
          },
          "metadata": {}
        },
        {
          "output_type": "display_data",
          "data": {
            "text/plain": [
              "\u001b[1m Trainable params: \u001b[0m\u001b[38;5;34m93,322\u001b[0m (364.54 KB)\n"
            ],
            "text/html": [
              "<pre style=\"white-space:pre;overflow-x:auto;line-height:normal;font-family:Menlo,'DejaVu Sans Mono',consolas,'Courier New',monospace\"><span style=\"font-weight: bold\"> Trainable params: </span><span style=\"color: #00af00; text-decoration-color: #00af00\">93,322</span> (364.54 KB)\n",
              "</pre>\n"
            ]
          },
          "metadata": {}
        },
        {
          "output_type": "display_data",
          "data": {
            "text/plain": [
              "\u001b[1m Non-trainable params: \u001b[0m\u001b[38;5;34m0\u001b[0m (0.00 B)\n"
            ],
            "text/html": [
              "<pre style=\"white-space:pre;overflow-x:auto;line-height:normal;font-family:Menlo,'DejaVu Sans Mono',consolas,'Courier New',monospace\"><span style=\"font-weight: bold\"> Non-trainable params: </span><span style=\"color: #00af00; text-decoration-color: #00af00\">0</span> (0.00 B)\n",
              "</pre>\n"
            ]
          },
          "metadata": {}
        },
        {
          "output_type": "stream",
          "name": "stdout",
          "text": [
            "✅ Modelo compilado!\n",
            "\n",
            "🎯 Verificando formatos antes do treinamento:\n",
            "x_train: (60000, 28, 28, 1)\n",
            "y_train: (60000, 10)\n",
            "x_test: (10000, 28, 28, 1)\n",
            "y_test: (10000, 10)\n",
            "✅ Formatos corretos! Iniciando treinamento...\n",
            "Epoch 1/5\n",
            "\u001b[1m938/938\u001b[0m \u001b[32m━━━━━━━━━━━━━━━━━━━━\u001b[0m\u001b[37m\u001b[0m \u001b[1m58s\u001b[0m 60ms/step - accuracy: 0.8667 - loss: 0.4195 - val_accuracy: 0.9793 - val_loss: 0.0707\n",
            "Epoch 2/5\n",
            "\u001b[1m938/938\u001b[0m \u001b[32m━━━━━━━━━━━━━━━━━━━━\u001b[0m\u001b[37m\u001b[0m \u001b[1m58s\u001b[0m 62ms/step - accuracy: 0.9848 - loss: 0.0518 - val_accuracy: 0.9889 - val_loss: 0.0336\n",
            "Epoch 3/5\n",
            "\u001b[1m938/938\u001b[0m \u001b[32m━━━━━━━━━━━━━━━━━━━━\u001b[0m\u001b[37m\u001b[0m \u001b[1m55s\u001b[0m 59ms/step - accuracy: 0.9894 - loss: 0.0327 - val_accuracy: 0.9867 - val_loss: 0.0393\n",
            "Epoch 4/5\n",
            "\u001b[1m938/938\u001b[0m \u001b[32m━━━━━━━━━━━━━━━━━━━━\u001b[0m\u001b[37m\u001b[0m \u001b[1m82s\u001b[0m 59ms/step - accuracy: 0.9922 - loss: 0.0265 - val_accuracy: 0.9898 - val_loss: 0.0326\n",
            "Epoch 5/5\n",
            "\u001b[1m938/938\u001b[0m \u001b[32m━━━━━━━━━━━━━━━━━━━━\u001b[0m\u001b[37m\u001b[0m \u001b[1m55s\u001b[0m 59ms/step - accuracy: 0.9942 - loss: 0.0190 - val_accuracy: 0.9877 - val_loss: 0.0428\n",
            "✅ Treinamento concluído!\n",
            "\n",
            "🧪 TESTE BÁSICO\n",
            "📊 Accuracy no teste: 0.9877\n",
            "\n",
            "🔍 Testando predições em 5 imagens:\n",
            "🔍 Formato da imagem para predição: (1, 28, 28, 1)\n",
            "Imagem 1: True=5, Pred=5, Conf=1.000 ✅\n",
            "🔍 Formato da imagem para predição: (1, 28, 28, 1)\n",
            "Imagem 2: True=1, Pred=1, Conf=1.000 ✅\n",
            "🔍 Formato da imagem para predição: (1, 28, 28, 1)\n",
            "Imagem 3: True=5, Pred=5, Conf=1.000 ✅\n",
            "🔍 Formato da imagem para predição: (1, 28, 28, 1)\n",
            "Imagem 4: True=5, Pred=5, Conf=1.000 ✅\n",
            "🔍 Formato da imagem para predição: (1, 28, 28, 1)\n",
            "Imagem 5: True=1, Pred=1, Conf=1.000 ✅\n",
            "\n",
            "📊 Plotando resultados...\n",
            "🔍 Formato da imagem para predição: (1, 28, 28, 1)\n",
            "🔍 Formato da imagem para predição: (1, 28, 28, 1)\n",
            "🔍 Formato da imagem para predição: (1, 28, 28, 1)\n",
            "🔍 Formato da imagem para predição: (1, 28, 28, 1)\n",
            "🔍 Formato da imagem para predição: (1, 28, 28, 1)\n",
            "🔍 Formato da imagem para predição: (1, 28, 28, 1)\n",
            "🔍 Formato da imagem para predição: (1, 28, 28, 1)\n",
            "🔍 Formato da imagem para predição: (1, 28, 28, 1)\n",
            "🔍 Formato da imagem para predição: (1, 28, 28, 1)\n"
          ]
        },
        {
          "output_type": "display_data",
          "data": {
            "text/plain": [
              "<Figure size 1200x400 with 11 Axes>"
            ],
            "image/png": "[encoded data removed]"
          },
          "metadata": {}
        },
        {
          "output_type": "stream",
          "name": "stderr",
          "text": [
            "WARNING:absl:You are saving your model as an HDF5 file via `model.save()` or `keras.saving.save_model(model)`. This file format is considered legacy. We recommend using instead the native Keras format, e.g. `model.save('my_model.keras')` or `keras.saving.save_model(model, 'my_model.keras')`. \n"
          ]
        },
        {
          "output_type": "stream",
          "name": "stdout",
          "text": [
            "\n",
            "💾 Modelo salvo: 'mnist_cnn_tested.h5'\n",
            "\n",
            "🎯 DEMONSTRAÇÃO FINAL\n",
            "Testando a primeira imagem do conjunto de teste:\n",
            "🔍 Formato da imagem para predição: (1, 28, 28, 1)\n"
          ]
        },
        {
          "output_type": "display_data",
          "data": {
            "text/plain": [
              "<Figure size 1000x400 with 2 Axes>"
            ],
            "image/png": "[encoded data removed]"
          },
          "metadata": {}
        },
        {
          "output_type": "stream",
          "name": "stdout",
          "text": [
            "\n",
            "🎉 PROGRAMA CONCLUÍDO COM SUCESSO!\n",
            "📈 Modelo treinado e testado com sucesso!\n"
          ]
        }
      ]
    },
    {
      "cell_type": "code",
      "source": [
        "# CÓDIGO DE EXEMPLO PARA TESTE RÁPIDO\n",
        "def quick_test():\n",
        "    \"\"\"\n",
        "    Teste rápido e mínimo para verificar se tudo funciona\n",
        "    \"\"\"\n",
        "    print(\"\\n⚡ TESTE RÁPIDO...\")\n",
        "\n",
        "    # Carregar dados mínimos\n",
        "    mnist = keras.datasets.mnist\n",
        "    (x_train, y_train), (x_test, y_test) = mnist.load_data()\n",
        "\n",
        "    # Pré-processar\n",
        "    x_train = x_train.reshape(-1, 28, 28, 1).astype('float32') / 255\n",
        "    x_test = x_test.reshape(-1, 28, 28, 1).astype('float32') / 255\n",
        "    y_train = to_categorical(y_train)\n",
        "    y_test = to_categorical(y_test)\n",
        "\n",
        "    # Modelo simples\n",
        "    model = keras.Sequential([\n",
        "        layers.Conv2D(32, (3,3), activation='relu', input_shape=(28,28,1)),\n",
        "        layers.MaxPooling2D(2,2),\n",
        "        layers.Flatten(),\n",
        "        layers.Dense(10, activation='softmax')\n",
        "    ])\n",
        "\n",
        "    model.compile(optimizer='rmsprop', loss='categorical_crossentropy', metrics=['accuracy'])\n",
        "\n",
        "    # Treinar por 1 época apenas para teste\n",
        "    print(\"Treinando rapidamente (1 época)...\")\n",
        "    model.fit(x_train[:1000], y_train[:1000], epochs=1, batch_size=32, verbose=0)\n",
        "\n",
        "    # Testar\n",
        "    test_loss, test_accuracy = model.evaluate(x_test[:100], y_test[:100], verbose=0)\n",
        "    print(f\"Accuracy no teste rápido: {test_accuracy:.2%}\")\n",
        "\n",
        "    return model\n",
        "\n",
        "# Para teste rápido, descomente a linha abaixo:\n",
        "quick_model = quick_test()"
      ],
      "metadata": {
        "colab": {
          "base_uri": "https://localhost:8080/"
        },
        "id": "vTUs9QVLP2DQ",
        "outputId": "d641244c-9aeb-4165-81fa-1cf7b10c4258"
      },
      "execution_count": 13,
      "outputs": [
        {
          "output_type": "stream",
          "name": "stdout",
          "text": [
            "\n",
            "⚡ TESTE RÁPIDO...\n",
            "Treinando rapidamente (1 época)...\n",
            "Accuracy no teste rápido: 82.00%\n"
          ]
        }
      ]
    },
    {
      "cell_type": "code",
      "source": [
        "# Execute este código em uma célula separada primeiro\n",
        "def minimal_test():\n",
        "    import tensorflow as tf\n",
        "    import numpy as np\n",
        "\n",
        "    # Dados mínimos\n",
        "    mnist = tf.keras.datasets.mnist\n",
        "    (x_train, y_train), (x_test, y_test) = mnist.load_data()\n",
        "\n",
        "    # Pré-processar CORRETAMENTE\n",
        "    x_train = x_train.reshape(-1, 28, 28, 1).astype('float32') / 255\n",
        "    x_test = x_test.reshape(-1, 28, 28, 1).astype('float32') / 255\n",
        "    y_train = tf.keras.utils.to_categorical(y_train)\n",
        "    y_test = tf.keras.utils.to_categorical(y_test)\n",
        "\n",
        "    print(f\"Formato x_train: {x_train.shape}\")\n",
        "    print(f\"Formato x_test: {x_test.shape}\")\n",
        "\n",
        "    # Modelo mínimo\n",
        "    model = tf.keras.Sequential([\n",
        "        tf.keras.layers.Conv2D(32, (3,3), activation='relu', input_shape=(28,28,1)),\n",
        "        tf.keras.layers.MaxPooling2D(2,2),\n",
        "        tf.keras.layers.Flatten(),\n",
        "        tf.keras.layers.Dense(10, activation='softmax')\n",
        "    ])\n",
        "\n",
        "    model.compile(optimizer='rmsprop', loss='categorical_crossentropy', metrics=['accuracy'])\n",
        "\n",
        "    # Treinar\n",
        "    model.fit(x_train[:1000], y_train[:1000], epochs=1, batch_size=32, verbose=1)\n",
        "\n",
        "    return model\n",
        "\n",
        "# Execute o teste mínimo\n",
        "minimal_model = minimal_test()"
      ],
      "metadata": {
        "colab": {
          "base_uri": "https://localhost:8080/"
        },
        "id": "Fgmn81fAQKVO",
        "outputId": "aab428a6-968c-4438-9119-d91dc395d807"
      },
      "execution_count": 14,
      "outputs": [
        {
          "output_type": "stream",
          "name": "stdout",
          "text": [
            "Formato x_train: (60000, 28, 28, 1)\n",
            "Formato x_test: (10000, 28, 28, 1)\n",
            "\u001b[1m32/32\u001b[0m \u001b[32m━━━━━━━━━━━━━━━━━━━━\u001b[0m\u001b[37m\u001b[0m \u001b[1m1s\u001b[0m 13ms/step - accuracy: 0.5080 - loss: 1.7289\n"
          ]
        }
      ]
    }
  ]
}