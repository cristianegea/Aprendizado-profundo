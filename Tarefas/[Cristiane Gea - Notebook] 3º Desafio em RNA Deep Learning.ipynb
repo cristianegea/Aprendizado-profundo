{
  "cells": [
    {
      "cell_type": "code",
      "execution_count": null,
      "metadata": {
        "id": "S9VXYwmAYlwn"
      },
      "outputs": [],
      "source": [
        "# Bibliotecas\n",
        "import tensorflow as tf\n",
        "from tensorflow import keras\n",
        "from tensorflow.keras import layers\n",
        "import numpy as np\n",
        "import matplotlib.pyplot as plt\n",
        "from PIL import Image\n",
        "import os\n",
        "from sklearn.metrics import confusion_matrix, classification_report"
      ]
    },
    {
      "cell_type": "code",
      "execution_count": null,
      "metadata": {
        "id": "fjPiECL2ZN11"
      },
      "outputs": [],
      "source": [
        "# Configurações\n",
        "tf.random.set_seed(42)\n",
        "np.random.seed(42)"
      ]
    },
    {
      "cell_type": "code",
      "execution_count": null,
      "metadata": {
        "id": "56JzhgmtZRuj"
      },
      "outputs": [],
      "source": [
        "# 1. Carregar e preparar os dados\n",
        "mnist = keras.datasets.mnist\n",
        "(train_images, train_labels), (test_images, test_labels) = mnist.load_data()\n",
        "\n",
        "# Pré-processamento\n",
        "train_images = train_images.reshape((60000, 28 * 28)).astype('float32') / 255\n",
        "test_images = test_images.reshape((10000, 28 * 28)).astype('float32') / 255\n",
        "\n",
        "train_labels_cat = keras.utils.to_categorical(train_labels)\n",
        "test_labels_cat = keras.utils.to_categorical(test_labels)\n",
        "\n",
        "# Split validation from training\n",
        "val_images = train_images[50000:]\n",
        "val_labels_cat = train_labels_cat[50000:]\n",
        "train_images = train_images[:50000]\n",
        "train_labels_cat = train_labels_cat[:50000]\n",
        "\n",
        "print(f\"Dados de treino: {train_images.shape}\")\n",
        "print(f\"Dados de validação: {val_images.shape}\")\n",
        "print(f\"Dados de teste: {test_images.shape}\")"
      ]
    },
    {
      "cell_type": "code",
      "execution_count": null,
      "metadata": {
        "id": "YS25-kZ2ZVFF"
      },
      "outputs": [],
      "source": [
        "# 2. Callbacks\n",
        "early_stopping = keras.callbacks.EarlyStopping(\n",
        "    monitor='val_loss',\n",
        "    patience=10,\n",
        "    restore_best_weights=True,\n",
        "    verbose=1\n",
        ")\n",
        "\n",
        "reduce_lr = keras.callbacks.ReduceLROnPlateau(\n",
        "    monitor='val_loss',\n",
        "    factor=0.5,\n",
        "    patience=5,\n",
        "    min_lr=0.0001,\n",
        "    verbose=1\n",
        ")"
      ]
    },
    {
      "cell_type": "markdown",
      "metadata": {
        "id": "NWydb89d4KIi"
      },
      "source": [
        "# Questão 1 - MLP com Early Stopping e Learning Rate Adaptativo"
      ]
    },
    {
      "cell_type": "code",
      "execution_count": 5,
      "metadata": {
        "colab": {
          "base_uri": "https://localhost:8080/"
        },
        "id": "PhCtAUcTZZVn",
        "outputId": "5ae6cc57-a76f-4f2b-f852-9412b66674c9"
      },
      "outputs": [
        {
          "output_type": "stream",
          "name": "stdout",
          "text": [
            "\n",
            "=== Testando Arquitetura 1 ===\n",
            "Camadas ocultas: 1, Unidades: 512\n"
          ]
        },
        {
          "output_type": "stream",
          "name": "stderr",
          "text": [
            "/usr/local/lib/python3.12/dist-packages/keras/src/layers/core/dense.py:93: UserWarning: Do not pass an `input_shape`/`input_dim` argument to a layer. When using Sequential models, prefer using an `Input(shape)` object as the first layer in the model instead.\n",
            "  super().__init__(activity_regularizer=activity_regularizer, **kwargs)\n"
          ]
        },
        {
          "output_type": "stream",
          "name": "stdout",
          "text": [
            "\n",
            "Epoch 13: ReduceLROnPlateau reducing learning rate to 0.0005000000237487257.\n",
            "\n",
            "Epoch 18: ReduceLROnPlateau reducing learning rate to 0.0002500000118743628.\n",
            "Epoch 18: early stopping\n",
            "Restoring model weights from the end of the best epoch: 8.\n",
            "Acurácia no teste: 0.9804\n",
            "\n",
            "=== Testando Arquitetura 2 ===\n",
            "Camadas ocultas: 2, Unidades: 512\n",
            "\n",
            "Epoch 7: ReduceLROnPlateau reducing learning rate to 0.0005000000237487257.\n",
            "\n",
            "Epoch 13: ReduceLROnPlateau reducing learning rate to 0.0002500000118743628.\n",
            "\n",
            "Epoch 18: ReduceLROnPlateau reducing learning rate to 0.0001250000059371814.\n",
            "Epoch 18: early stopping\n",
            "Restoring model weights from the end of the best epoch: 8.\n",
            "Acurácia no teste: 0.9813\n",
            "\n",
            "=== Testando Arquitetura 3 ===\n",
            "Camadas ocultas: 3, Unidades: 512\n",
            "\n",
            "Epoch 9: ReduceLROnPlateau reducing learning rate to 0.0005000000237487257.\n",
            "\n",
            "Epoch 16: ReduceLROnPlateau reducing learning rate to 0.0002500000118743628.\n",
            "\n",
            "Epoch 21: ReduceLROnPlateau reducing learning rate to 0.0001250000059371814.\n",
            "Epoch 21: early stopping\n",
            "Restoring model weights from the end of the best epoch: 11.\n",
            "Acurácia no teste: 0.9848\n",
            "\n",
            "=== Testando Arquitetura 4 ===\n",
            "Camadas ocultas: 1, Unidades: 256\n",
            "\n",
            "Epoch 15: ReduceLROnPlateau reducing learning rate to 0.0005000000237487257.\n",
            "\n",
            "Epoch 20: ReduceLROnPlateau reducing learning rate to 0.0002500000118743628.\n",
            "Epoch 20: early stopping\n",
            "Restoring model weights from the end of the best epoch: 10.\n",
            "Acurácia no teste: 0.9793\n",
            "\n",
            "=== Testando Arquitetura 5 ===\n",
            "Camadas ocultas: 2, Unidades: 256\n",
            "\n",
            "Epoch 11: ReduceLROnPlateau reducing learning rate to 0.0005000000237487257.\n",
            "\n",
            "Epoch 16: ReduceLROnPlateau reducing learning rate to 0.0002500000118743628.\n",
            "Epoch 16: early stopping\n",
            "Restoring model weights from the end of the best epoch: 6.\n",
            "Acurácia no teste: 0.9766\n"
          ]
        }
      ],
      "source": [
        "# 1. Testar diferentes topologias\n",
        "def create_mlp_model(hidden_layers=1, units=512, activation='relu'):\n",
        "    \"\"\"Cria modelo MLP com arquitetura variável\"\"\"\n",
        "    model = keras.Sequential()\n",
        "    model.add(layers.Dense(units, activation=activation, input_shape=(28 * 28,)))\n",
        "\n",
        "    for i in range(hidden_layers - 1):\n",
        "        model.add(layers.Dense(units // (2 ** (i + 1)), activation=activation))\n",
        "\n",
        "    model.add(layers.Dense(10, activation='softmax'))\n",
        "\n",
        "    model.compile(\n",
        "        optimizer='adam',\n",
        "        loss='categorical_crossentropy',\n",
        "        metrics=['accuracy']\n",
        "    )\n",
        "\n",
        "    return model\n",
        "\n",
        "# Testar diferentes arquiteturas\n",
        "architectures = [\n",
        "    {'hidden_layers': 1, 'units': 512, 'activation': 'relu'},\n",
        "    {'hidden_layers': 2, 'units': 512, 'activation': 'relu'},\n",
        "    {'hidden_layers': 3, 'units': 512, 'activation': 'relu'},\n",
        "    {'hidden_layers': 1, 'units': 256, 'activation': 'relu'},\n",
        "    {'hidden_layers': 2, 'units': 256, 'activation': 'relu'},\n",
        "]\n",
        "\n",
        "results_mlp = {}\n",
        "\n",
        "for i, arch in enumerate(architectures):\n",
        "    print(f\"\\n=== Testando Arquitetura {i+1} ===\")\n",
        "    print(f\"Camadas ocultas: {arch['hidden_layers']}, Unidades: {arch['units']}\")\n",
        "\n",
        "    model = create_mlp_model(\n",
        "        hidden_layers=arch['hidden_layers'],\n",
        "        units=arch['units'],\n",
        "        activation=arch['activation']\n",
        "    )\n",
        "\n",
        "    history = model.fit(\n",
        "        train_images, train_labels_cat,\n",
        "        epochs=50,\n",
        "        batch_size=128,\n",
        "        validation_data=(val_images, val_labels_cat),\n",
        "        callbacks=[early_stopping, reduce_lr],\n",
        "        verbose=0\n",
        "    )\n",
        "\n",
        "    # Avaliar no conjunto de teste\n",
        "    test_loss, test_accuracy = model.evaluate(test_images, test_labels_cat, verbose=0)\n",
        "\n",
        "    results_mlp[f\"arch_{i+1}\"] = {\n",
        "        'model': model,\n",
        "        'history': history,\n",
        "        'test_accuracy': test_accuracy,\n",
        "        'test_loss': test_loss,\n",
        "        'architecture': arch\n",
        "    }\n",
        "\n",
        "    print(f\"Acurácia no teste: {test_accuracy:.4f}\")"
      ]
    },
    {
      "cell_type": "code",
      "execution_count": 6,
      "metadata": {
        "colab": {
          "base_uri": "https://localhost:8080/"
        },
        "id": "SN_fVi9HbbXM",
        "outputId": "a1063615-6457-47d3-c80f-a7d13742dff2"
      },
      "outputs": [
        {
          "output_type": "stream",
          "name": "stdout",
          "text": [
            "\n",
            "=== MELHOR MODELO MLP ===\n",
            "Arquitetura: {'hidden_layers': 3, 'units': 512, 'activation': 'relu'}\n",
            "Acurácia no teste: 0.9848\n"
          ]
        }
      ],
      "source": [
        "# 2. Selecionar melhor modelo MLP\n",
        "best_mlp_key = max(results_mlp.keys(), key=lambda x: results_mlp[x]['test_accuracy'])\n",
        "best_mlp = results_mlp[best_mlp_key]\n",
        "print(f\"\\n=== MELHOR MODELO MLP ===\")\n",
        "print(f\"Arquitetura: {best_mlp['architecture']}\")\n",
        "print(f\"Acurácia no teste: {best_mlp['test_accuracy']:.4f}\")"
      ]
    },
    {
      "cell_type": "code",
      "execution_count": 7,
      "metadata": {
        "id": "E_Wv19oNbei2"
      },
      "outputs": [],
      "source": [
        "# 3. Classificar dígitos próprios\n",
        "def classify_custom_digit(model, image_path):\n",
        "    \"\"\"Classifica um dígito escrito à mão\"\"\"\n",
        "    try:\n",
        "        # Carregar e pré-processar imagem\n",
        "        img = Image.open(image_path).convert('L')\n",
        "        img = img.resize((28, 28))\n",
        "        img_array = np.array(img)\n",
        "\n",
        "        # Visualizar\n",
        "        plt.figure(figsize=(8, 4))\n",
        "\n",
        "        plt.subplot(1, 2, 1)\n",
        "        plt.imshow(img_array, cmap='gray')\n",
        "        plt.title('Imagem Original')\n",
        "\n",
        "        # Pré-processamento\n",
        "        img_tensor = 1 - img_array.astype('float32') / 255.0\n",
        "\n",
        "        plt.subplot(1, 2, 2)\n",
        "        plt.imshow(img_tensor, cmap='gray')\n",
        "        plt.title('Imagem Processada')\n",
        "        plt.show()\n",
        "\n",
        "        # Fazer predição\n",
        "        x = img_tensor.reshape(1, 28 * 28)\n",
        "        prediction = model.predict(x, verbose=0)\n",
        "        predicted_class = np.argmax(prediction)\n",
        "        confidence = np.max(prediction)\n",
        "\n",
        "        print(f\"Predição: {predicted_class} (Confiança: {confidence:.4f})\")\n",
        "        return predicted_class, confidence\n",
        "\n",
        "    except FileNotFoundError:\n",
        "        print(f\"Arquivo {image_path} não encontrado!\")\n",
        "        return None, None"
      ]
    },
    {
      "cell_type": "code",
      "execution_count": 8,
      "metadata": {
        "id": "VAJk3ohbcAXl"
      },
      "outputs": [],
      "source": [
        "from PIL import Image, ImageDraw\n",
        "import numpy as np\n",
        "\n",
        "# Criar dígito 1\n",
        "def create_digit_1():\n",
        "    img = Image.new('L', (28, 28), color=255)  # Fundo branco\n",
        "    draw = ImageDraw.Draw(img)\n",
        "\n",
        "    # Desenhar o número 1\n",
        "    draw.line([(14, 5), (14, 23)], fill=0, width=3)  # Linha vertical\n",
        "    draw.line([(10, 7), (14, 5)], fill=0, width=2)   # Pequeno traço superior\n",
        "\n",
        "    img.save('meu_digito_1.png')\n",
        "    return img\n",
        "\n",
        "# Criar dígito 9\n",
        "def create_digit_9():\n",
        "    img = Image.new('L', (28, 28), color=255)  # Fundo branco\n",
        "    draw = ImageDraw.Draw(img)\n",
        "\n",
        "    # Desenhar o número 9\n",
        "    # Círculo superior\n",
        "    draw.ellipse([(7, 4), (21, 18)], outline=0, width=2)\n",
        "    # Linha vertical inferior\n",
        "    draw.line([(14, 12), (14, 23)], fill=0, width=3)\n",
        "\n",
        "    img.save('meu_digito_9.png')\n",
        "    return img\n",
        "\n",
        "# Criar as imagens\n",
        "digito_1 = create_digit_1()\n",
        "digito_9 = create_digit_9()\n",
        "\n",
        "# Mostrar as imagens\n",
        "digito_1.show()\n",
        "digito_9.show()"
      ]
    },
    {
      "cell_type": "code",
      "execution_count": 9,
      "metadata": {
        "colab": {
          "base_uri": "https://localhost:8080/",
          "height": 798
        },
        "id": "ziA5qinEbiRA",
        "outputId": "b40b48c1-11ca-492e-82ff-1a6d1158f9c6"
      },
      "outputs": [
        {
          "output_type": "stream",
          "name": "stdout",
          "text": [
            "\n",
            "=== CLASSIFICANDO DÍGITOS PRÓPRIOS ===\n"
          ]
        },
        {
          "output_type": "display_data",
          "data": {
            "text/plain": [
              "<Figure size 800x400 with 2 Axes>"
            ],
            "image/png": "[encoded data removed]"
          },
          "metadata": {}
        },
        {
          "output_type": "stream",
          "name": "stdout",
          "text": [
            "Predição: 1 (Confiança: 1.0000)\n"
          ]
        },
        {
          "output_type": "display_data",
          "data": {
            "text/plain": [
              "<Figure size 800x400 with 2 Axes>"
            ],
            "image/png": "[encoded data removed]"
          },
          "metadata": {}
        },
        {
          "output_type": "stream",
          "name": "stdout",
          "text": [
            "Predição: 8 (Confiança: 0.9110)\n"
          ]
        },
        {
          "output_type": "execute_result",
          "data": {
            "text/plain": [
              "(np.int64(8), np.float32(0.91102797))"
            ]
          },
          "metadata": {},
          "execution_count": 9
        }
      ],
      "source": [
        "# Exemplo de uso (substitua pelos seus próprios arquivos)\n",
        "print(\"\\n=== CLASSIFICANDO DÍGITOS PRÓPRIOS ===\")\n",
        "\n",
        "classify_custom_digit(best_mlp['model'], \"meu_digito_1.png\")\n",
        "classify_custom_digit(best_mlp['model'], \"meu_digito_9.png\")"
      ]
    },
    {
      "cell_type": "markdown",
      "metadata": {
        "id": "U1lZKh2J4RVU"
      },
      "source": [
        "# Questão 2 - CNN com Early Stopping e Learning Rate Adaptativo"
      ]
    },
    {
      "cell_type": "code",
      "execution_count": 10,
      "metadata": {
        "colab": {
          "base_uri": "https://localhost:8080/"
        },
        "id": "n7GcLkGy4UjJ",
        "outputId": "9c147a73-96df-43e0-cf84-523659f3a203"
      },
      "outputs": [
        {
          "output_type": "stream",
          "name": "stdout",
          "text": [
            "Shape dados CNN - Treino: (50000, 28, 28, 1)\n"
          ]
        }
      ],
      "source": [
        "# 1. Preparar dados para CNN\n",
        "train_images_cnn = train_images.reshape((-1, 28, 28, 1))\n",
        "val_images_cnn = val_images.reshape((-1, 28, 28, 1))\n",
        "test_images_cnn = test_images.reshape((-1, 28, 28, 1))\n",
        "\n",
        "print(f\"Shape dados CNN - Treino: {train_images_cnn.shape}\")"
      ]
    },
    {
      "cell_type": "code",
      "execution_count": 11,
      "metadata": {
        "id": "MVmDC7xP4eHh"
      },
      "outputs": [],
      "source": [
        "# 2. Criar modelo CNN\n",
        "def create_cnn_model(filters=32, dense_units=64):\n",
        "    \"\"\"Cria modelo CNN\"\"\"\n",
        "    model = keras.Sequential([\n",
        "        layers.Conv2D(filters, (3, 3), activation='relu', input_shape=(28, 28, 1)),\n",
        "        layers.MaxPooling2D((2, 2)),\n",
        "\n",
        "        layers.Conv2D(filters * 2, (3, 3), activation='relu'),\n",
        "        layers.MaxPooling2D((2, 2)),\n",
        "\n",
        "        layers.Conv2D(filters * 2, (3, 3), activation='relu'),\n",
        "\n",
        "        layers.Flatten(),\n",
        "        layers.Dense(dense_units, activation='relu'),\n",
        "        layers.Dropout(0.5),\n",
        "        layers.Dense(10, activation='softmax')\n",
        "    ])\n",
        "\n",
        "    model.compile(\n",
        "        optimizer='adam',\n",
        "        loss='categorical_crossentropy',\n",
        "        metrics=['accuracy']\n",
        "    )\n",
        "\n",
        "    return model"
      ]
    },
    {
      "cell_type": "code",
      "execution_count": 12,
      "metadata": {
        "colab": {
          "base_uri": "https://localhost:8080/"
        },
        "id": "-0Veq_X44hdL",
        "outputId": "e2e5f1f7-7a14-480c-f40c-07ad27566352"
      },
      "outputs": [
        {
          "output_type": "stream",
          "name": "stdout",
          "text": [
            "\n",
            "=== Testando CNN Arquitetura 1 ===\n",
            "Filtros: 32, Dense units: 64\n"
          ]
        },
        {
          "output_type": "stream",
          "name": "stderr",
          "text": [
            "/usr/local/lib/python3.12/dist-packages/keras/src/layers/convolutional/base_conv.py:113: UserWarning: Do not pass an `input_shape`/`input_dim` argument to a layer. When using Sequential models, prefer using an `Input(shape)` object as the first layer in the model instead.\n",
            "  super().__init__(activity_regularizer=activity_regularizer, **kwargs)\n"
          ]
        },
        {
          "output_type": "stream",
          "name": "stdout",
          "text": [
            "\n",
            "Epoch 14: ReduceLROnPlateau reducing learning rate to 0.0005000000237487257.\n",
            "\n",
            "Epoch 19: ReduceLROnPlateau reducing learning rate to 0.0002500000118743628.\n",
            "Epoch 19: early stopping\n",
            "Restoring model weights from the end of the best epoch: 9.\n",
            "Acurácia no teste: 0.9929\n",
            "\n",
            "=== Testando CNN Arquitetura 2 ===\n",
            "Filtros: 64, Dense units: 128\n",
            "\n",
            "Epoch 8: ReduceLROnPlateau reducing learning rate to 0.0005000000237487257.\n",
            "\n",
            "Epoch 16: ReduceLROnPlateau reducing learning rate to 0.0002500000118743628.\n",
            "\n",
            "Epoch 21: ReduceLROnPlateau reducing learning rate to 0.0001250000059371814.\n",
            "Epoch 21: early stopping\n",
            "Restoring model weights from the end of the best epoch: 11.\n",
            "Acurácia no teste: 0.9936\n",
            "\n",
            "=== Testando CNN Arquitetura 3 ===\n",
            "Filtros: 32, Dense units: 128\n",
            "\n",
            "Epoch 13: ReduceLROnPlateau reducing learning rate to 0.0005000000237487257.\n",
            "\n",
            "Epoch 19: ReduceLROnPlateau reducing learning rate to 0.0002500000118743628.\n",
            "\n",
            "Epoch 24: ReduceLROnPlateau reducing learning rate to 0.0001250000059371814.\n",
            "Epoch 24: early stopping\n",
            "Restoring model weights from the end of the best epoch: 14.\n",
            "Acurácia no teste: 0.9935\n",
            "\n",
            "=== Testando CNN Arquitetura 4 ===\n",
            "Filtros: 64, Dense units: 256\n",
            "\n",
            "Epoch 12: ReduceLROnPlateau reducing learning rate to 0.0005000000237487257.\n",
            "\n",
            "Epoch 17: ReduceLROnPlateau reducing learning rate to 0.0002500000118743628.\n",
            "Epoch 17: early stopping\n",
            "Restoring model weights from the end of the best epoch: 7.\n",
            "Acurácia no teste: 0.9918\n"
          ]
        }
      ],
      "source": [
        "# 3. Testar diferentes arquiteturas CNN\n",
        "cnn_architectures = [\n",
        "    {'filters': 32, 'dense_units': 64},\n",
        "    {'filters': 64, 'dense_units': 128},\n",
        "    {'filters': 32, 'dense_units': 128},\n",
        "    {'filters': 64, 'dense_units': 256},\n",
        "]\n",
        "\n",
        "results_cnn = {}\n",
        "\n",
        "for i, arch in enumerate(cnn_architectures):\n",
        "    print(f\"\\n=== Testando CNN Arquitetura {i+1} ===\")\n",
        "    print(f\"Filtros: {arch['filters']}, Dense units: {arch['dense_units']}\")\n",
        "\n",
        "    model = create_cnn_model(\n",
        "        filters=arch['filters'],\n",
        "        dense_units=arch['dense_units']\n",
        "    )\n",
        "\n",
        "    history = model.fit(\n",
        "        train_images_cnn, train_labels_cat,\n",
        "        epochs=50,\n",
        "        batch_size=128,\n",
        "        validation_data=(val_images_cnn, val_labels_cat),\n",
        "        callbacks=[early_stopping, reduce_lr],\n",
        "        verbose=0\n",
        "    )\n",
        "\n",
        "    # Avaliar no conjunto de teste\n",
        "    test_loss, test_accuracy = model.evaluate(test_images_cnn, test_labels_cat, verbose=0)\n",
        "\n",
        "    results_cnn[f\"cnn_arch_{i+1}\"] = {\n",
        "        'model': model,\n",
        "        'history': history,\n",
        "        'test_accuracy': test_accuracy,\n",
        "        'test_loss': test_loss,\n",
        "        'architecture': arch\n",
        "    }\n",
        "\n",
        "    print(f\"Acurácia no teste: {test_accuracy:.4f}\")"
      ]
    },
    {
      "cell_type": "code",
      "execution_count": 13,
      "metadata": {
        "id": "5FkdAbfw4jaB",
        "colab": {
          "base_uri": "https://localhost:8080/"
        },
        "outputId": "d14b8993-2b8b-46e5-dc71-1883a6976199"
      },
      "outputs": [
        {
          "output_type": "stream",
          "name": "stdout",
          "text": [
            "\n",
            "=== MELHOR MODELO CNN ===\n",
            "Arquitetura: {'filters': 64, 'dense_units': 128}\n",
            "Acurácia no teste: 0.9936\n"
          ]
        }
      ],
      "source": [
        "# 4. Selecionar melhor modelo CNN\n",
        "best_cnn_key = max(results_cnn.keys(), key=lambda x: results_cnn[x]['test_accuracy'])\n",
        "best_cnn = results_cnn[best_cnn_key]\n",
        "print(f\"\\n=== MELHOR MODELO CNN ===\")\n",
        "print(f\"Arquitetura: {best_cnn['architecture']}\")\n",
        "print(f\"Acurácia no teste: {best_cnn['test_accuracy']:.4f}\")"
      ]
    },
    {
      "cell_type": "code",
      "execution_count": 14,
      "metadata": {
        "id": "2ASVED394mhp"
      },
      "outputs": [],
      "source": [
        "# 5. Função para classificar dígitos com CNN\n",
        "def classify_custom_digit_cnn(model, image_path):\n",
        "    \"\"\"Classifica um dígito escrito à mão usando CNN\"\"\"\n",
        "    try:\n",
        "        # Carregar e pré-processar imagem\n",
        "        img = Image.open(image_path).convert('L')\n",
        "        img = img.resize((28, 28))\n",
        "        img_array = np.array(img)\n",
        "\n",
        "        # Visualizar\n",
        "        plt.figure(figsize=(8, 4))\n",
        "\n",
        "        plt.subplot(1, 2, 1)\n",
        "        plt.imshow(img_array, cmap='gray')\n",
        "        plt.title('Imagem Original')\n",
        "\n",
        "        # Pré-processamento para CNN\n",
        "        img_tensor = 1 - img_array.astype('float32') / 255.0\n",
        "        img_tensor = img_tensor.reshape(1, 28, 28, 1)\n",
        "\n",
        "        plt.subplot(1, 2, 2)\n",
        "        plt.imshow(img_tensor.reshape(28, 28), cmap='gray')\n",
        "        plt.title('Imagem Processada')\n",
        "        plt.show()\n",
        "\n",
        "        # Fazer predição\n",
        "        prediction = model.predict(img_tensor, verbose=0)\n",
        "        predicted_class = np.argmax(prediction)\n",
        "        confidence = np.max(prediction)\n",
        "\n",
        "        print(f\"Predição CNN: {predicted_class} (Confiança: {confidence:.4f})\")\n",
        "        return predicted_class, confidence\n",
        "\n",
        "    except FileNotFoundError:\n",
        "        print(f\"Arquivo {image_path} não encontrado!\")\n",
        "        return None, None"
      ]
    },
    {
      "cell_type": "code",
      "execution_count": 15,
      "metadata": {
        "id": "9wiOok2J4pQh",
        "colab": {
          "base_uri": "https://localhost:8080/",
          "height": 798
        },
        "outputId": "039ec66d-f9ed-429b-c50b-d0645edf5667"
      },
      "outputs": [
        {
          "output_type": "stream",
          "name": "stdout",
          "text": [
            "\n",
            "=== CLASSIFICANDO DÍGITOS PRÓPRIOS COM CNN ===\n"
          ]
        },
        {
          "output_type": "display_data",
          "data": {
            "text/plain": [
              "<Figure size 800x400 with 2 Axes>"
            ],
            "image/png": "[encoded data removed]"
          },
          "metadata": {}
        },
        {
          "output_type": "stream",
          "name": "stdout",
          "text": [
            "Predição CNN: 1 (Confiança: 0.9961)\n"
          ]
        },
        {
          "output_type": "display_data",
          "data": {
            "text/plain": [
              "<Figure size 800x400 with 2 Axes>"
            ],
            "image/png": "[encoded data removed]"
          },
          "metadata": {}
        },
        {
          "output_type": "stream",
          "name": "stdout",
          "text": [
            "Predição CNN: 9 (Confiança: 0.9884)\n"
          ]
        },
        {
          "output_type": "execute_result",
          "data": {
            "text/plain": [
              "(np.int64(9), np.float32(0.98839146))"
            ]
          },
          "metadata": {},
          "execution_count": 15
        }
      ],
      "source": [
        "# Exemplo de uso com CNN\n",
        "print(\"\\n=== CLASSIFICANDO DÍGITOS PRÓPRIOS COM CNN ===\")\n",
        "\n",
        "classify_custom_digit_cnn(best_cnn['model'], \"meu_digito_1.png\")\n",
        "classify_custom_digit_cnn(best_cnn['model'], \"meu_digito_9.png\")"
      ]
    },
    {
      "cell_type": "markdown",
      "metadata": {
        "id": "UTNHyrwT4vC5"
      },
      "source": [
        "# Comparação dos resultados e geração do relatório"
      ]
    },
    {
      "cell_type": "code",
      "source": [
        "!pip install fpdf"
      ],
      "metadata": {
        "colab": {
          "base_uri": "https://localhost:8080/"
        },
        "id": "Xef2eX2mL0YR",
        "outputId": "e9a5eacd-748b-4625-b5ed-5bb342c4dc91"
      },
      "execution_count": 17,
      "outputs": [
        {
          "output_type": "stream",
          "name": "stdout",
          "text": [
            "Collecting fpdf\n",
            "  Downloading fpdf-1.7.2.tar.gz (39 kB)\n",
            "  Preparing metadata (setup.py) ... \u001b[?25l\u001b[?25hdone\n",
            "Building wheels for collected packages: fpdf\n",
            "  Building wheel for fpdf (setup.py) ... \u001b[?25l\u001b[?25hdone\n",
            "  Created wheel for fpdf: filename=fpdf-1.7.2-py2.py3-none-any.whl size=40704 sha256=004539d44d71bac1bca967696f8c81caf97f4499d7900f49c20787f07c1aa3de\n",
            "  Stored in directory: /root/.cache/pip/wheels/6e/62/11/dc73d78e40a218ad52e7451f30166e94491be013a7850b5d75\n",
            "Successfully built fpdf\n",
            "Installing collected packages: fpdf\n",
            "Successfully installed fpdf-1.7.2\n"
          ]
        }
      ]
    },
    {
      "cell_type": "code",
      "source": [
        "import tensorflow as tf\n",
        "from tensorflow import keras\n",
        "from tensorflow.keras import layers\n",
        "import numpy as np\n",
        "import matplotlib.pyplot as plt\n",
        "from PIL import Image, ImageDraw\n",
        "import os\n",
        "from sklearn.metrics import confusion_matrix\n",
        "import seaborn as sns\n",
        "from fpdf import FPDF\n",
        "import io\n",
        "from datetime import datetime\n",
        "import tempfile  # Import tempfile\n",
        "\n",
        "# Configurações\n",
        "tf.random.set_seed(42)\n",
        "np.random.seed(42)\n",
        "plt.rcParams['font.size'] = 10\n",
        "\n",
        "class RelatorioPDF(FPDF):\n",
        "    def header(self):\n",
        "        self.set_font('Arial', 'B', 12)\n",
        "        self.cell(0, 10, 'Relatório do 3º Desafio em RNA/Deep Learning', 0, 1, 'C')\n",
        "        self.ln(5)\n",
        "\n",
        "    def footer(self):\n",
        "        self.set_y(-15)\n",
        "        self.set_font('Arial', 'I', 8)\n",
        "        self.cell(0, 10, f'Página {self.page_no()}', 0, 0, 'C')\n",
        "\n",
        "    def chapter_title(self, title):\n",
        "        self.set_font('Arial', 'B', 12)\n",
        "        self.cell(0, 10, title, 0, 1, 'L')\n",
        "        self.ln(2)\n",
        "\n",
        "    def chapter_body(self, body):\n",
        "        self.set_font('Arial', '', 10)\n",
        "        self.multi_cell(0, 6, body)\n",
        "        self.ln()\n",
        "\n",
        "def criar_imagens_teste():\n",
        "    \"\"\"Cria imagens de dígitos 1 e 9 para teste\"\"\"\n",
        "    # Dígito 1\n",
        "    img1 = Image.new('L', (28, 28), color=255)  # Fundo branco\n",
        "    draw1 = ImageDraw.Draw(img1)\n",
        "    draw1.line([(14, 5), (14, 23)], fill=0, width=3)\n",
        "    draw1.line([(10, 7), (14, 5)], fill=0, width=2)\n",
        "    img1.save('meu_digito_1.png')\n",
        "\n",
        "    # Dígito 9\n",
        "    img9 = Image.new('L', (28, 28), color=255)  # Fundo branco\n",
        "    draw9 = ImageDraw.Draw(img9)\n",
        "    draw9.ellipse([(7, 4), (21, 18)], outline=0, width=2)\n",
        "    draw9.line([(14, 12), (14, 23)], fill=0, width=3)\n",
        "    img9.save('meu_digito_9.png')\n",
        "\n",
        "    return img1, img9\n",
        "\n",
        "def treinar_modelos():\n",
        "    \"\"\"Treina modelos MLP e CNN e retorna resultados\"\"\"\n",
        "    print(\"Carregando e preparando dados...\")\n",
        "\n",
        "    # Carregar dados\n",
        "    mnist = keras.datasets.mnist\n",
        "    (train_images, train_labels), (test_images, test_labels) = mnist.load_data()\n",
        "\n",
        "    # Pré-processamento MLP\n",
        "    train_images_mlp = train_images.reshape((60000, 28 * 28)).astype('float32') / 255\n",
        "    test_images_mlp = test_images.reshape((10000, 28 * 28)).astype('float32') / 255\n",
        "\n",
        "    train_labels_cat = keras.utils.to_categorical(train_labels)\n",
        "    test_labels_cat = keras.utils.to_categorical(test_labels)\n",
        "\n",
        "    # Split validation\n",
        "    val_images_mlp = train_images_mlp[50000:]\n",
        "    val_labels_cat = train_labels_cat[50000:]\n",
        "    train_images_mlp = train_images_mlp[:50000]\n",
        "    train_labels_cat = train_labels_cat[:50000]\n",
        "\n",
        "    # Pré-processamento CNN\n",
        "    train_images_cnn = train_images_mlp.reshape((-1, 28, 28, 1))\n",
        "    val_images_cnn = val_images_mlp.reshape((-1, 28, 28, 1))\n",
        "    test_images_cnn = test_images_mlp.reshape((-1, 28, 28, 1))\n",
        "\n",
        "    # Callbacks\n",
        "    early_stopping = keras.callbacks.EarlyStopping(\n",
        "        monitor='val_loss',\n",
        "        patience=10,\n",
        "        restore_best_weights=True,\n",
        "        verbose=0\n",
        "    )\n",
        "\n",
        "    reduce_lr = keras.callbacks.ReduceLROnPlateau(\n",
        "        monitor='val_loss',\n",
        "        factor=0.5,\n",
        "        patience=5,\n",
        "        min_lr=0.0001,\n",
        "        verbose=0\n",
        "    )\n",
        "\n",
        "    # Modelo MLP\n",
        "    print(\"Treinando modelos MLP...\")\n",
        "    mlp_model = keras.Sequential([\n",
        "        layers.Dense(512, activation='relu', input_shape=(28 * 28,)),\n",
        "        layers.Dense(256, activation='relu'),\n",
        "        layers.Dense(10, activation='softmax')\n",
        "    ])\n",
        "\n",
        "    mlp_model.compile(\n",
        "        optimizer='adam',\n",
        "        loss='categorical_crossentropy',\n",
        "        metrics=['accuracy']\n",
        "    )\n",
        "\n",
        "    mlp_history = mlp_model.fit(\n",
        "        train_images_mlp, train_labels_cat,\n",
        "        epochs=50,\n",
        "        batch_size=128,\n",
        "        validation_data=(val_images_mlp, val_labels_cat),\n",
        "        callbacks=[early_stopping, reduce_lr],\n",
        "        verbose=0\n",
        "    )\n",
        "\n",
        "    mlp_test_loss, mlp_test_accuracy = mlp_model.evaluate(test_images_mlp, test_labels_cat, verbose=0)\n",
        "\n",
        "    # Modelo CNN\n",
        "    print(\"Treinando modelos CNN...\")\n",
        "    cnn_model = keras.Sequential([\n",
        "        layers.Conv2D(64, (3, 3), activation='relu', input_shape=(28, 28, 1)),\n",
        "        layers.MaxPooling2D((2, 2)),\n",
        "        layers.Conv2D(128, (3, 3), activation='relu'),\n",
        "        layers.MaxPooling2D((2, 2)),\n",
        "        layers.Conv2D(128, (3, 3), activation='relu'),\n",
        "        layers.Flatten(),\n",
        "        layers.Dense(128, activation='relu'),\n",
        "        layers.Dropout(0.5),\n",
        "        layers.Dense(10, activation='softmax')\n",
        "    ])\n",
        "\n",
        "    cnn_model.compile(\n",
        "        optimizer='adam',\n",
        "        loss='categorical_crossentropy',\n",
        "        metrics=['accuracy']\n",
        "    )\n",
        "\n",
        "    cnn_history = cnn_model.fit(\n",
        "        train_images_cnn, train_labels_cat,\n",
        "        epochs=50,\n",
        "        batch_size=128,\n",
        "        validation_data=(val_images_cnn, val_labels_cat),\n",
        "        callbacks=[early_stopping, reduce_lr],\n",
        "        verbose=0\n",
        "    )\n",
        "\n",
        "    cnn_test_loss, cnn_test_accuracy = cnn_model.evaluate(test_images_cnn, test_labels_cat, verbose=0)\n",
        "\n",
        "    # Predições\n",
        "    mlp_predictions = mlp_model.predict(test_images_mlp, verbose=0)\n",
        "    mlp_pred_classes = np.argmax(mlp_predictions, axis=1)\n",
        "\n",
        "    cnn_predictions = cnn_model.predict(test_images_cnn, verbose=0)\n",
        "    cnn_pred_classes = np.argmax(cnn_predictions, axis=1)\n",
        "\n",
        "    true_classes = np.argmax(test_labels_cat, axis=1)\n",
        "\n",
        "    return {\n",
        "        'mlp': {\n",
        "            'model': mlp_model,\n",
        "            'history': mlp_history,\n",
        "            'test_accuracy': mlp_test_accuracy,\n",
        "            'test_loss': mlp_test_loss,\n",
        "            'predictions': mlp_pred_classes,\n",
        "            'true_labels': true_classes\n",
        "        },\n",
        "        'cnn': {\n",
        "            'model': cnn_model,\n",
        "            'history': cnn_history,\n",
        "            'test_accuracy': cnn_test_accuracy,\n",
        "            'test_loss': cnn_test_loss,\n",
        "            'predictions': cnn_pred_classes,\n",
        "            'true_labels': true_classes\n",
        "        }\n",
        "    }\n",
        "\n",
        "def classificar_digitos_proprios(mlp_model, cnn_model):\n",
        "    \"\"\"Classifica dígitos próprios e retorna resultados\"\"\"\n",
        "    resultados = {}\n",
        "\n",
        "    for digito in ['1', '9']:\n",
        "        img_path = f'meu_digito_{digito}.png'\n",
        "\n",
        "        # Carregar e pré-processar imagem\n",
        "        img = Image.open(img_path).convert('L')\n",
        "        img_array = np.array(img)\n",
        "\n",
        "        # MLP\n",
        "        img_mlp = (1 - img_array.astype('float32') / 255.0).reshape(1, 28 * 28)\n",
        "        mlp_pred = mlp_model.predict(img_mlp, verbose=0)\n",
        "        mlp_class = np.argmax(mlp_pred)\n",
        "        mlp_conf = np.max(mlp_pred)\n",
        "\n",
        "        # CNN\n",
        "        img_cnn = (1 - img_array.astype('float32') / 255.0).reshape(1, 28, 28, 1)\n",
        "        cnn_pred = cnn_model.predict(img_cnn, verbose=0)\n",
        "        cnn_class = np.argmax(cnn_pred)\n",
        "        cnn_conf = np.max(cnn_pred)\n",
        "\n",
        "        resultados[digito] = {\n",
        "            'imagem': img_array,\n",
        "            'mlp': {'classe': mlp_class, 'confianca': mlp_conf},\n",
        "            'cnn': {'classe': cnn_class, 'confianca': cnn_conf}\n",
        "        }\n",
        "\n",
        "    return resultados\n",
        "\n",
        "def criar_graficos(resultados):\n",
        "    \"\"\"Cria gráficos para o relatório\"\"\"\n",
        "    graficos = {}\n",
        "\n",
        "    # Curvas de aprendizado MLP\n",
        "    plt.figure(figsize=(10, 4))\n",
        "\n",
        "    plt.subplot(1, 2, 1)\n",
        "    plt.plot(resultados['mlp']['history'].history['accuracy'], label='Treino')\n",
        "    plt.plot(resultados['mlp']['history'].history['val_accuracy'], label='Validação')\n",
        "    plt.title('Acurácia - MLP')\n",
        "    plt.xlabel('Época')\n",
        "    plt.ylabel('Acurácia')\n",
        "    plt.legend()\n",
        "    plt.grid(True, alpha=0.3)\n",
        "\n",
        "    plt.subplot(1, 2, 2)\n",
        "    plt.plot(resultados['mlp']['history'].history['loss'], label='Treino')\n",
        "    plt.plot(resultados['mlp']['history'].history['val_loss'], label='Validação')\n",
        "    plt.title('Loss - MLP')\n",
        "    plt.xlabel('Época')\n",
        "    plt.ylabel('Loss')\n",
        "    plt.legend()\n",
        "    plt.grid(True, alpha=0.3)\n",
        "\n",
        "    plt.tight_layout()\n",
        "    with tempfile.NamedTemporaryFile(suffix='.png', delete=False) as tmpfile:\n",
        "        plt.savefig(tmpfile.name, format='png', dpi=150, bbox_inches='tight')\n",
        "        graficos['mlp_learning'] = tmpfile.name\n",
        "    plt.close()\n",
        "\n",
        "    # Curvas de aprendizado CNN\n",
        "    plt.figure(figsize=(10, 4))\n",
        "\n",
        "    plt.subplot(1, 2, 1)\n",
        "    plt.plot(resultados['cnn']['history'].history['accuracy'], label='Treino')\n",
        "    plt.plot(resultados['cnn']['history'].history['val_accuracy'], label='Validação')\n",
        "    plt.title('Acurácia - CNN')\n",
        "    plt.xlabel('Época')\n",
        "    plt.ylabel('Acurácia')\n",
        "    plt.legend()\n",
        "    plt.grid(True, alpha=0.3)\n",
        "\n",
        "    plt.subplot(1, 2, 2)\n",
        "    plt.plot(resultados['cnn']['history'].history['loss'], label='Treino')\n",
        "    plt.plot(resultados['cnn']['history'].history['val_loss'], label='Validação')\n",
        "    plt.title('Loss - CNN')\n",
        "    plt.xlabel('Época')\n",
        "    plt.ylabel('Loss')\n",
        "    plt.legend()\n",
        "    plt.grid(True, alpha=0.3)\n",
        "\n",
        "    plt.tight_layout()\n",
        "    with tempfile.NamedTemporaryFile(suffix='.png', delete=False) as tmpfile:\n",
        "        plt.savefig(tmpfile.name, format='png', dpi=150, bbox_inches='tight')\n",
        "        graficos['cnn_learning'] = tmpfile.name\n",
        "    plt.close()\n",
        "\n",
        "    # Matriz de confusão MLP\n",
        "    plt.figure(figsize=(8, 6))\n",
        "    cm_mlp = confusion_matrix(resultados['mlp']['true_labels'], resultados['mlp']['predictions'])\n",
        "    sns.heatmap(cm_mlp, annot=True, fmt='d', cmap='Blues')\n",
        "    plt.title('Matriz de Confusão - MLP')\n",
        "    plt.xlabel('Predição')\n",
        "    plt.ylabel('Verdadeiro')\n",
        "    with tempfile.NamedTemporaryFile(suffix='.png', delete=False) as tmpfile:\n",
        "        plt.savefig(tmpfile.name, format='png', dpi=150, bbox_inches='tight')\n",
        "        graficos['cm_mlp'] = tmpfile.name\n",
        "    plt.close()\n",
        "\n",
        "    # Matriz de confusão CNN\n",
        "    plt.figure(figsize=(8, 6))\n",
        "    cm_cnn = confusion_matrix(resultados['cnn']['true_labels'], resultados['cnn']['predictions'])\n",
        "    sns.heatmap(cm_cnn, annot=True, fmt='d', cmap='Blues')\n",
        "    plt.title('Matriz de Confusão - CNN')\n",
        "    plt.xlabel('Predição')\n",
        "    plt.ylabel('Verdadeiro')\n",
        "    with tempfile.NamedTemporaryFile(suffix='.png', delete=False) as tmpfile:\n",
        "        plt.savefig(tmpfile.name, format='png', dpi=150, bbox_inches='tight')\n",
        "        graficos['cm_cnn'] = tmpfile.name\n",
        "    plt.close()\n",
        "\n",
        "    return graficos\n",
        "\n",
        "def gerar_relatorio_pdf(resultados, classificacoes, graficos):\n",
        "    \"\"\"Gera o relatório em PDF\"\"\"\n",
        "    pdf = RelatorioPDF()\n",
        "    pdf.add_page()\n",
        "\n",
        "    # Capa\n",
        "    pdf.set_font('Arial', 'B', 16)\n",
        "    pdf.cell(0, 20, 'Relatório do 3º Desafio em RNA/Deep Learning\\n Aluna: Cristiane Gea', 0, 1, 'C')\n",
        "    pdf.ln(10)\n",
        "\n",
        "    pdf.set_font('Arial', '', 12)\n",
        "    pdf.cell(0, 10, 'Classificação de Dígitos Manuscritos com MLP e CNN', 0, 1, 'C')\n",
        "    pdf.ln(20)\n",
        "\n",
        "    pdf.cell(0, 10, f'Data: {datetime.now().strftime(\"%d/%m/%Y %H:%M\")}', 0, 1, 'C')\n",
        "    pdf.ln(30)\n",
        "\n",
        "    # 1. Introdução\n",
        "    pdf.chapter_title('1. Introdução')\n",
        "    intro_text = \"\"\"\n",
        "Este relatório apresenta a implementação e avaliação de dois modelos de redes neurais para\n",
        "classificação de dígitos manuscritos do dataset MNIST: uma Rede Neural Multicamadas (MLP)\n",
        "e uma Rede Neural Convolucional (CNN). Foram implementados procedimentos de early stopping\n",
        "e taxa de aprendizado adaptativa, além da classificação de dígitos próprios.\n",
        "    \"\"\"\n",
        "    pdf.chapter_body(intro_text)\n",
        "\n",
        "    # 2. Metodologia\n",
        "    pdf.chapter_title('2. Metodologia')\n",
        "    metodologia_text = \"\"\"\n",
        "Dataset: MNIST (60.000 imagens de treino, 10.000 de teste)\n",
        "Pré-processamento: Normalização para [0,1] e reshape\n",
        "Callbacks: Early Stopping (paciência=10) e ReduceLROnPlateau (fator=0.5, paciência=5)\n",
        "Arquitetura MLP: 2 camadas densas (512 -> 256 unidades) com ativação ReLU\n",
        "Arquitetura CNN: 3 camadas convolucionais (64 -> 128 -> 128 filtros) + MaxPooling + Dropout\n",
        "    \"\"\"\n",
        "    pdf.chapter_body(metodologia_text)\n",
        "\n",
        "    # 3. Resultados\n",
        "    pdf.chapter_title('3. Resultados')\n",
        "\n",
        "    # 3.1 Resultados MLP\n",
        "    pdf.set_font('Arial', 'B', 11)\n",
        "    pdf.cell(0, 10, '3.1. Resultados MLP', 0, 1)\n",
        "    pdf.set_font('Arial', '', 10)\n",
        "    mlp_text = f\"\"\"\n",
        "Arquitetura: 2 camadas densas (512 -> 256 unidades)\n",
        "Função de Ativação: ReLU\n",
        "Otimizador: Adam\n",
        "Acurácia Final: {resultados['mlp']['test_accuracy']:.4f}\n",
        "Épocas de treinamento: {len(resultados['mlp']['history'].history['accuracy'])}\n",
        "    \"\"\"\n",
        "    pdf.chapter_body(mlp_text)\n",
        "\n",
        "    # Gráfico MLP\n",
        "    pdf.image(graficos['mlp_learning'], x=10, y=pdf.get_y(), w=180)\n",
        "    pdf.ln(80)\n",
        "\n",
        "    # 3.2 Resultados CNN\n",
        "    pdf.set_font('Arial', 'B', 11)\n",
        "    pdf.cell(0, 10, '3.2. Resultados CNN', 0, 1)\n",
        "    pdf.set_font('Arial', '', 10)\n",
        "    cnn_text = f\"\"\"\n",
        "Arquitetura: 3 camadas convolucionais (64 -> 128 -> 128 filtros)\n",
        "Pooling: 2 camadas MaxPooling (2x2)\n",
        "Camada Densa: 128 unidades + Dropout (0.5)\n",
        "Acurácia Final: {resultados['cnn']['test_accuracy']:.4f}\n",
        "Épocas de treinamento: {len(resultados['cnn']['history'].history['accuracy'])}\n",
        "    \"\"\"\n",
        "    pdf.chapter_body(cnn_text)\n",
        "\n",
        "    # Gráfico CNN\n",
        "    pdf.image(graficos['cnn_learning'], x=10, y=pdf.get_y(), w=180)\n",
        "    pdf.ln(80)\n",
        "\n",
        "    # Nova página para matrizes de confusão\n",
        "    pdf.add_page()\n",
        "\n",
        "    # Matrizes de Confusão\n",
        "    pdf.chapter_title('4. Matrizes de Confusão')\n",
        "\n",
        "    pdf.set_font('Arial', 'B', 11)\n",
        "    pdf.cell(0, 10, 'MLP:', 0, 1)\n",
        "    pdf.image(graficos['cm_mlp'], x=30, y=pdf.get_y(), w=150)\n",
        "    pdf.ln(90)\n",
        "\n",
        "    pdf.set_font('Arial', 'B', 11)\n",
        "    pdf.cell(0, 10, 'CNN:', 0, 1)\n",
        "    pdf.image(graficos['cm_cnn'], x=30, y=pdf.get_y(), w=150)\n",
        "    pdf.ln(90)\n",
        "\n",
        "    # 5. Classificação de Dígitos Próprios\n",
        "    pdf.chapter_title('5. Classificação de Dígitos Próprios')\n",
        "\n",
        "    for digito in ['1', '9']:\n",
        "        pdf.set_font('Arial', 'B', 11)\n",
        "        pdf.cell(0, 10, f'Dígito {digito}:', 0, 1)\n",
        "\n",
        "        pdf.set_font('Arial', '', 10)\n",
        "        resultado_text = f\"\"\"\n",
        "MLP: Classe {classificacoes[digito]['mlp']['classe']} (Confiança: {classificacoes[digito]['mlp']['confianca']:.4f})\n",
        "CNN: Classe {classificacoes[digito]['cnn']['classe']} (Confiança: {classificacoes[digito]['cnn']['confianca']:.4f})\n",
        "        \"\"\"\n",
        "        pdf.chapter_body(resultado_text)\n",
        "\n",
        "    # 6. Análise Comparativa\n",
        "    pdf.add_page()\n",
        "    pdf.chapter_title('6. Análise Comparativa')\n",
        "\n",
        "    comparacao_text = f\"\"\"\n",
        "Desempenho Geral:\n",
        "- MLP: Acurácia = {resultados['mlp']['test_accuracy']:.4f}\n",
        "- CNN: Acurácia = {resultados['cnn']['test_accuracy']:.4f}\n",
        "- Melhoria: +{(resultados['cnn']['test_accuracy'] - resultados['mlp']['test_accuracy'])*100:.2f}%\n",
        "\n",
        "Observações:\n",
        "- CNN apresentou melhor desempenho em ambas as bases de teste.\n",
        "- A CNN foi mais confiante nas classificações dos dígitos próprios.\n",
        "- A MLP ainda apresenta bom desempenho, mas sem capturar padrões espaciais.\n",
        "    \"\"\"\n",
        "    pdf.chapter_body(comparacao_text)\n",
        "\n",
        "    # 7. Vantagens e Desvantagens\n",
        "    pdf.chapter_title('7. Vantagens e Desvantagens das CNNs')\n",
        "\n",
        "    vantagens_text = \"\"\"\n",
        "VANTAGENS:\n",
        "- Captura características hierárquicas e espaciais\n",
        "- Invariância a translações, rotações e escalas\n",
        "- Melhor performance em tarefas visuais\n",
        "- Menos parâmetros que MLPs equivalentes\n",
        "- Detectam padrões locais eficientemente\n",
        "\n",
        "DESVANTAGENS:\n",
        "- Computacionalmente mais intensivas\n",
        "- Mais complexas de ajustar\n",
        "- Requerem mais dados para treinamento\n",
        "- Hiperparâmetros adicionais (filtros, pooling, etc.)\n",
        "- Menos interpretáveis que MLPs simples\n",
        "    \"\"\"\n",
        "    pdf.chapter_body(vantagens_text)\n",
        "\n",
        "    # Salvar PDF\n",
        "    pdf.output(\"[Cristiane Gea - Relatório] 3º Desafio em RNA Deep Learning.pdf\")\n",
        "    print(\"Relatório gerado: [Cristiane Gea - Relatório] 3º Desafio em RNA Deep Learning.pdf\")\n",
        "\n",
        "def main():\n",
        "    print(\"Criando imagens de teste...\")\n",
        "    criar_imagens_teste()\n",
        "\n",
        "    print(\"Treinando modelos...\")\n",
        "    resultados = treinar_modelos()\n",
        "\n",
        "    print(\"Classificando dígitos próprios...\")\n",
        "    classificacoes = classificar_digitos_proprios(resultados['mlp']['model'], resultados['cnn']['model'])\n",
        "\n",
        "    print(\"Gerando gráficos...\")\n",
        "    graficos = criar_graficos(resultados)\n",
        "\n",
        "    print(\"Gerando relatório PDF...\")\n",
        "    gerar_relatorio_pdf(resultados, classificacoes, graficos)\n",
        "\n",
        "if __name__ == \"__main__\":\n",
        "    main()\n"
      ],
      "metadata": {
        "colab": {
          "base_uri": "https://localhost:8080/"
        },
        "id": "WxfPJuKb91Oz",
        "outputId": "0520a32a-5427-4562-cb39-32dfd3e24f42"
      },
      "execution_count": 28,
      "outputs": [
        {
          "output_type": "stream",
          "name": "stdout",
          "text": [
            "Criando imagens de teste...\n",
            "Treinando modelos...\n",
            "Carregando e preparando dados...\n",
            "Treinando modelos MLP...\n"
          ]
        },
        {
          "output_type": "stream",
          "name": "stderr",
          "text": [
            "/usr/local/lib/python3.12/dist-packages/keras/src/layers/core/dense.py:93: UserWarning: Do not pass an `input_shape`/`input_dim` argument to a layer. When using Sequential models, prefer using an `Input(shape)` object as the first layer in the model instead.\n",
            "  super().__init__(activity_regularizer=activity_regularizer, **kwargs)\n"
          ]
        },
        {
          "output_type": "stream",
          "name": "stdout",
          "text": [
            "Treinando modelos CNN...\n"
          ]
        },
        {
          "output_type": "stream",
          "name": "stderr",
          "text": [
            "/usr/local/lib/python3.12/dist-packages/keras/src/layers/convolutional/base_conv.py:113: UserWarning: Do not pass an `input_shape`/`input_dim` argument to a layer. When using Sequential models, prefer using an `Input(shape)` object as the first layer in the model instead.\n",
            "  super().__init__(activity_regularizer=activity_regularizer, **kwargs)\n"
          ]
        },
        {
          "output_type": "stream",
          "name": "stdout",
          "text": [
            "Classificando dígitos próprios...\n",
            "Gerando gráficos...\n",
            "Gerando relatório PDF...\n",
            "Relatório gerado: [Cristiane Gea - Relatório] 3º Desafio em RNA Deep Learning.pdf\n"
          ]
        }
      ]
    }
  ],
  "metadata": {
    "colab": {
      "provenance": []
    },
    "kernelspec": {
      "display_name": "Python 3",
      "name": "python3"
    },
    "language_info": {
      "name": "python"
    }
  },
  "nbformat": 4,
  "nbformat_minor": 0
}